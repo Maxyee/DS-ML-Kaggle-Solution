{
  "nbformat": 4,
  "nbformat_minor": 0,
  "metadata": {
    "colab": {
      "provenance": []
    },
    "kernelspec": {
      "name": "python3",
      "display_name": "Python 3"
    },
    "language_info": {
      "name": "python"
    }
  },
  "cells": [
    {
      "cell_type": "code",
      "execution_count": 1,
      "metadata": {
        "id": "B3sn8dJnMbsm"
      },
      "outputs": [],
      "source": [
        "import pandas as pd\n",
        "import numpy as np\n",
        "import matplotlib.pyplot as plt\n",
        "import seaborn as sns\n",
        "import warnings\n",
        "warnings.filterwarnings('ignore')"
      ]
    },
    {
      "cell_type": "code",
      "source": [
        "df = pd.read_csv('./sample_data/qs-world-rankings-2025.csv')"
      ],
      "metadata": {
        "id": "xq84PMxuMo2Y"
      },
      "execution_count": 3,
      "outputs": []
    },
    {
      "cell_type": "code",
      "source": [
        "df.head()"
      ],
      "metadata": {
        "colab": {
          "base_uri": "https://localhost:8080/",
          "height": 400
        },
        "id": "2hFFj0oNM1C_",
        "outputId": "1c0ba2d3-a999-49c1-f5a2-b93e125cacfb"
      },
      "execution_count": 4,
      "outputs": [
        {
          "output_type": "execute_result",
          "data": {
            "text/plain": [
              "  2025 Rank 2024 Rank                              Institution Name Location  \\\n",
              "0         1         1  Massachusetts Institute of Technology (MIT)        US   \n",
              "1         2         6                       Imperial College London       UK   \n",
              "2         3         3                          University of Oxford       UK   \n",
              "3         4         4                            Harvard University       US   \n",
              "4         5         2                       University of Cambridge       UK   \n",
              "\n",
              "    Location Full Size  Academic Reputation  Employer Reputation  \\\n",
              "0   United States    M                100.0                100.0   \n",
              "1  United Kingdom    L                 98.5                 99.5   \n",
              "2  United Kingdom    L                100.0                100.0   \n",
              "3   United States    L                100.0                100.0   \n",
              "4  United Kingdom    L                100.0                100.0   \n",
              "\n",
              "   Faculty Student  Citations per Faculty  International Faculty  \\\n",
              "0            100.0                  100.0                   99.3   \n",
              "1             98.2                   93.9                  100.0   \n",
              "2            100.0                   84.8                   98.1   \n",
              "3             96.3                  100.0                   74.1   \n",
              "4            100.0                   84.6                  100.0   \n",
              "\n",
              "   International Students  International Research Network  \\\n",
              "0                    86.8                            96.0   \n",
              "1                    99.6                            97.4   \n",
              "2                    97.7                           100.0   \n",
              "3                    69.0                            99.6   \n",
              "4                    94.8                            99.3   \n",
              "\n",
              "   Employment Outcomes  Sustainability QS Overall Score  \n",
              "0                100.0            99.0              100  \n",
              "1                 93.4            99.7             98.5  \n",
              "2                100.0            85.0             96.9  \n",
              "3                100.0            84.4             96.8  \n",
              "4                100.0            84.8             96.7  "
            ],
            "text/html": [
              "\n",
              "  <div id=\"df-70de62ef-243f-4393-a39e-fd619baf05a5\" class=\"colab-df-container\">\n",
              "    <div>\n",
              "<style scoped>\n",
              "    .dataframe tbody tr th:only-of-type {\n",
              "        vertical-align: middle;\n",
              "    }\n",
              "\n",
              "    .dataframe tbody tr th {\n",
              "        vertical-align: top;\n",
              "    }\n",
              "\n",
              "    .dataframe thead th {\n",
              "        text-align: right;\n",
              "    }\n",
              "</style>\n",
              "<table border=\"1\" class=\"dataframe\">\n",
              "  <thead>\n",
              "    <tr style=\"text-align: right;\">\n",
              "      <th></th>\n",
              "      <th>2025 Rank</th>\n",
              "      <th>2024 Rank</th>\n",
              "      <th>Institution Name</th>\n",
              "      <th>Location</th>\n",
              "      <th>Location Full</th>\n",
              "      <th>Size</th>\n",
              "      <th>Academic Reputation</th>\n",
              "      <th>Employer Reputation</th>\n",
              "      <th>Faculty Student</th>\n",
              "      <th>Citations per Faculty</th>\n",
              "      <th>International Faculty</th>\n",
              "      <th>International Students</th>\n",
              "      <th>International Research Network</th>\n",
              "      <th>Employment Outcomes</th>\n",
              "      <th>Sustainability</th>\n",
              "      <th>QS Overall Score</th>\n",
              "    </tr>\n",
              "  </thead>\n",
              "  <tbody>\n",
              "    <tr>\n",
              "      <th>0</th>\n",
              "      <td>1</td>\n",
              "      <td>1</td>\n",
              "      <td>Massachusetts Institute of Technology (MIT)</td>\n",
              "      <td>US</td>\n",
              "      <td>United States</td>\n",
              "      <td>M</td>\n",
              "      <td>100.0</td>\n",
              "      <td>100.0</td>\n",
              "      <td>100.0</td>\n",
              "      <td>100.0</td>\n",
              "      <td>99.3</td>\n",
              "      <td>86.8</td>\n",
              "      <td>96.0</td>\n",
              "      <td>100.0</td>\n",
              "      <td>99.0</td>\n",
              "      <td>100</td>\n",
              "    </tr>\n",
              "    <tr>\n",
              "      <th>1</th>\n",
              "      <td>2</td>\n",
              "      <td>6</td>\n",
              "      <td>Imperial College London</td>\n",
              "      <td>UK</td>\n",
              "      <td>United Kingdom</td>\n",
              "      <td>L</td>\n",
              "      <td>98.5</td>\n",
              "      <td>99.5</td>\n",
              "      <td>98.2</td>\n",
              "      <td>93.9</td>\n",
              "      <td>100.0</td>\n",
              "      <td>99.6</td>\n",
              "      <td>97.4</td>\n",
              "      <td>93.4</td>\n",
              "      <td>99.7</td>\n",
              "      <td>98.5</td>\n",
              "    </tr>\n",
              "    <tr>\n",
              "      <th>2</th>\n",
              "      <td>3</td>\n",
              "      <td>3</td>\n",
              "      <td>University of Oxford</td>\n",
              "      <td>UK</td>\n",
              "      <td>United Kingdom</td>\n",
              "      <td>L</td>\n",
              "      <td>100.0</td>\n",
              "      <td>100.0</td>\n",
              "      <td>100.0</td>\n",
              "      <td>84.8</td>\n",
              "      <td>98.1</td>\n",
              "      <td>97.7</td>\n",
              "      <td>100.0</td>\n",
              "      <td>100.0</td>\n",
              "      <td>85.0</td>\n",
              "      <td>96.9</td>\n",
              "    </tr>\n",
              "    <tr>\n",
              "      <th>3</th>\n",
              "      <td>4</td>\n",
              "      <td>4</td>\n",
              "      <td>Harvard University</td>\n",
              "      <td>US</td>\n",
              "      <td>United States</td>\n",
              "      <td>L</td>\n",
              "      <td>100.0</td>\n",
              "      <td>100.0</td>\n",
              "      <td>96.3</td>\n",
              "      <td>100.0</td>\n",
              "      <td>74.1</td>\n",
              "      <td>69.0</td>\n",
              "      <td>99.6</td>\n",
              "      <td>100.0</td>\n",
              "      <td>84.4</td>\n",
              "      <td>96.8</td>\n",
              "    </tr>\n",
              "    <tr>\n",
              "      <th>4</th>\n",
              "      <td>5</td>\n",
              "      <td>2</td>\n",
              "      <td>University of Cambridge</td>\n",
              "      <td>UK</td>\n",
              "      <td>United Kingdom</td>\n",
              "      <td>L</td>\n",
              "      <td>100.0</td>\n",
              "      <td>100.0</td>\n",
              "      <td>100.0</td>\n",
              "      <td>84.6</td>\n",
              "      <td>100.0</td>\n",
              "      <td>94.8</td>\n",
              "      <td>99.3</td>\n",
              "      <td>100.0</td>\n",
              "      <td>84.8</td>\n",
              "      <td>96.7</td>\n",
              "    </tr>\n",
              "  </tbody>\n",
              "</table>\n",
              "</div>\n",
              "    <div class=\"colab-df-buttons\">\n",
              "\n",
              "  <div class=\"colab-df-container\">\n",
              "    <button class=\"colab-df-convert\" onclick=\"convertToInteractive('df-70de62ef-243f-4393-a39e-fd619baf05a5')\"\n",
              "            title=\"Convert this dataframe to an interactive table.\"\n",
              "            style=\"display:none;\">\n",
              "\n",
              "  <svg xmlns=\"http://www.w3.org/2000/svg\" height=\"24px\" viewBox=\"0 -960 960 960\">\n",
              "    <path d=\"M120-120v-720h720v720H120Zm60-500h600v-160H180v160Zm220 220h160v-160H400v160Zm0 220h160v-160H400v160ZM180-400h160v-160H180v160Zm440 0h160v-160H620v160ZM180-180h160v-160H180v160Zm440 0h160v-160H620v160Z\"/>\n",
              "  </svg>\n",
              "    </button>\n",
              "\n",
              "  <style>\n",
              "    .colab-df-container {\n",
              "      display:flex;\n",
              "      gap: 12px;\n",
              "    }\n",
              "\n",
              "    .colab-df-convert {\n",
              "      background-color: #E8F0FE;\n",
              "      border: none;\n",
              "      border-radius: 50%;\n",
              "      cursor: pointer;\n",
              "      display: none;\n",
              "      fill: #1967D2;\n",
              "      height: 32px;\n",
              "      padding: 0 0 0 0;\n",
              "      width: 32px;\n",
              "    }\n",
              "\n",
              "    .colab-df-convert:hover {\n",
              "      background-color: #E2EBFA;\n",
              "      box-shadow: 0px 1px 2px rgba(60, 64, 67, 0.3), 0px 1px 3px 1px rgba(60, 64, 67, 0.15);\n",
              "      fill: #174EA6;\n",
              "    }\n",
              "\n",
              "    .colab-df-buttons div {\n",
              "      margin-bottom: 4px;\n",
              "    }\n",
              "\n",
              "    [theme=dark] .colab-df-convert {\n",
              "      background-color: #3B4455;\n",
              "      fill: #D2E3FC;\n",
              "    }\n",
              "\n",
              "    [theme=dark] .colab-df-convert:hover {\n",
              "      background-color: #434B5C;\n",
              "      box-shadow: 0px 1px 3px 1px rgba(0, 0, 0, 0.15);\n",
              "      filter: drop-shadow(0px 1px 2px rgba(0, 0, 0, 0.3));\n",
              "      fill: #FFFFFF;\n",
              "    }\n",
              "  </style>\n",
              "\n",
              "    <script>\n",
              "      const buttonEl =\n",
              "        document.querySelector('#df-70de62ef-243f-4393-a39e-fd619baf05a5 button.colab-df-convert');\n",
              "      buttonEl.style.display =\n",
              "        google.colab.kernel.accessAllowed ? 'block' : 'none';\n",
              "\n",
              "      async function convertToInteractive(key) {\n",
              "        const element = document.querySelector('#df-70de62ef-243f-4393-a39e-fd619baf05a5');\n",
              "        const dataTable =\n",
              "          await google.colab.kernel.invokeFunction('convertToInteractive',\n",
              "                                                    [key], {});\n",
              "        if (!dataTable) return;\n",
              "\n",
              "        const docLinkHtml = 'Like what you see? Visit the ' +\n",
              "          '<a target=\"_blank\" href=https://colab.research.google.com/notebooks/data_table.ipynb>data table notebook</a>'\n",
              "          + ' to learn more about interactive tables.';\n",
              "        element.innerHTML = '';\n",
              "        dataTable['output_type'] = 'display_data';\n",
              "        await google.colab.output.renderOutput(dataTable, element);\n",
              "        const docLink = document.createElement('div');\n",
              "        docLink.innerHTML = docLinkHtml;\n",
              "        element.appendChild(docLink);\n",
              "      }\n",
              "    </script>\n",
              "  </div>\n",
              "\n",
              "\n",
              "<div id=\"df-96b98376-9feb-4243-bcee-54002c573111\">\n",
              "  <button class=\"colab-df-quickchart\" onclick=\"quickchart('df-96b98376-9feb-4243-bcee-54002c573111')\"\n",
              "            title=\"Suggest charts\"\n",
              "            style=\"display:none;\">\n",
              "\n",
              "<svg xmlns=\"http://www.w3.org/2000/svg\" height=\"24px\"viewBox=\"0 0 24 24\"\n",
              "     width=\"24px\">\n",
              "    <g>\n",
              "        <path d=\"M19 3H5c-1.1 0-2 .9-2 2v14c0 1.1.9 2 2 2h14c1.1 0 2-.9 2-2V5c0-1.1-.9-2-2-2zM9 17H7v-7h2v7zm4 0h-2V7h2v10zm4 0h-2v-4h2v4z\"/>\n",
              "    </g>\n",
              "</svg>\n",
              "  </button>\n",
              "\n",
              "<style>\n",
              "  .colab-df-quickchart {\n",
              "      --bg-color: #E8F0FE;\n",
              "      --fill-color: #1967D2;\n",
              "      --hover-bg-color: #E2EBFA;\n",
              "      --hover-fill-color: #174EA6;\n",
              "      --disabled-fill-color: #AAA;\n",
              "      --disabled-bg-color: #DDD;\n",
              "  }\n",
              "\n",
              "  [theme=dark] .colab-df-quickchart {\n",
              "      --bg-color: #3B4455;\n",
              "      --fill-color: #D2E3FC;\n",
              "      --hover-bg-color: #434B5C;\n",
              "      --hover-fill-color: #FFFFFF;\n",
              "      --disabled-bg-color: #3B4455;\n",
              "      --disabled-fill-color: #666;\n",
              "  }\n",
              "\n",
              "  .colab-df-quickchart {\n",
              "    background-color: var(--bg-color);\n",
              "    border: none;\n",
              "    border-radius: 50%;\n",
              "    cursor: pointer;\n",
              "    display: none;\n",
              "    fill: var(--fill-color);\n",
              "    height: 32px;\n",
              "    padding: 0;\n",
              "    width: 32px;\n",
              "  }\n",
              "\n",
              "  .colab-df-quickchart:hover {\n",
              "    background-color: var(--hover-bg-color);\n",
              "    box-shadow: 0 1px 2px rgba(60, 64, 67, 0.3), 0 1px 3px 1px rgba(60, 64, 67, 0.15);\n",
              "    fill: var(--button-hover-fill-color);\n",
              "  }\n",
              "\n",
              "  .colab-df-quickchart-complete:disabled,\n",
              "  .colab-df-quickchart-complete:disabled:hover {\n",
              "    background-color: var(--disabled-bg-color);\n",
              "    fill: var(--disabled-fill-color);\n",
              "    box-shadow: none;\n",
              "  }\n",
              "\n",
              "  .colab-df-spinner {\n",
              "    border: 2px solid var(--fill-color);\n",
              "    border-color: transparent;\n",
              "    border-bottom-color: var(--fill-color);\n",
              "    animation:\n",
              "      spin 1s steps(1) infinite;\n",
              "  }\n",
              "\n",
              "  @keyframes spin {\n",
              "    0% {\n",
              "      border-color: transparent;\n",
              "      border-bottom-color: var(--fill-color);\n",
              "      border-left-color: var(--fill-color);\n",
              "    }\n",
              "    20% {\n",
              "      border-color: transparent;\n",
              "      border-left-color: var(--fill-color);\n",
              "      border-top-color: var(--fill-color);\n",
              "    }\n",
              "    30% {\n",
              "      border-color: transparent;\n",
              "      border-left-color: var(--fill-color);\n",
              "      border-top-color: var(--fill-color);\n",
              "      border-right-color: var(--fill-color);\n",
              "    }\n",
              "    40% {\n",
              "      border-color: transparent;\n",
              "      border-right-color: var(--fill-color);\n",
              "      border-top-color: var(--fill-color);\n",
              "    }\n",
              "    60% {\n",
              "      border-color: transparent;\n",
              "      border-right-color: var(--fill-color);\n",
              "    }\n",
              "    80% {\n",
              "      border-color: transparent;\n",
              "      border-right-color: var(--fill-color);\n",
              "      border-bottom-color: var(--fill-color);\n",
              "    }\n",
              "    90% {\n",
              "      border-color: transparent;\n",
              "      border-bottom-color: var(--fill-color);\n",
              "    }\n",
              "  }\n",
              "</style>\n",
              "\n",
              "  <script>\n",
              "    async function quickchart(key) {\n",
              "      const quickchartButtonEl =\n",
              "        document.querySelector('#' + key + ' button');\n",
              "      quickchartButtonEl.disabled = true;  // To prevent multiple clicks.\n",
              "      quickchartButtonEl.classList.add('colab-df-spinner');\n",
              "      try {\n",
              "        const charts = await google.colab.kernel.invokeFunction(\n",
              "            'suggestCharts', [key], {});\n",
              "      } catch (error) {\n",
              "        console.error('Error during call to suggestCharts:', error);\n",
              "      }\n",
              "      quickchartButtonEl.classList.remove('colab-df-spinner');\n",
              "      quickchartButtonEl.classList.add('colab-df-quickchart-complete');\n",
              "    }\n",
              "    (() => {\n",
              "      let quickchartButtonEl =\n",
              "        document.querySelector('#df-96b98376-9feb-4243-bcee-54002c573111 button');\n",
              "      quickchartButtonEl.style.display =\n",
              "        google.colab.kernel.accessAllowed ? 'block' : 'none';\n",
              "    })();\n",
              "  </script>\n",
              "</div>\n",
              "\n",
              "    </div>\n",
              "  </div>\n"
            ],
            "application/vnd.google.colaboratory.intrinsic+json": {
              "type": "dataframe",
              "variable_name": "df",
              "summary": "{\n  \"name\": \"df\",\n  \"rows\": 1503,\n  \"fields\": [\n    {\n      \"column\": \"2025 Rank\",\n      \"properties\": {\n        \"dtype\": \"category\",\n        \"num_unique_values\": 388,\n        \"samples\": [\n          \"382\",\n          \"53\",\n          \"209\"\n        ],\n        \"semantic_type\": \"\",\n        \"description\": \"\"\n      }\n    },\n    {\n      \"column\": \"2024 Rank\",\n      \"properties\": {\n        \"dtype\": \"category\",\n        \"num_unique_values\": 378,\n        \"samples\": [\n          \"374\",\n          \"567\",\n          \"590\"\n        ],\n        \"semantic_type\": \"\",\n        \"description\": \"\"\n      }\n    },\n    {\n      \"column\": \"Institution Name\",\n      \"properties\": {\n        \"dtype\": \"string\",\n        \"num_unique_values\": 1503,\n        \"samples\": [\n          \"The London School of Economics and Political Science (LSE)\",\n          \"Universidad de las Fuerzas Armadas ESPE (Ex - Escuela Polit\\u00e9cnica del Ej\\u00e9rcito)\",\n          \"Tecnol\\u00f3gico de Monterrey\"\n        ],\n        \"semantic_type\": \"\",\n        \"description\": \"\"\n      }\n    },\n    {\n      \"column\": \"Location\",\n      \"properties\": {\n        \"dtype\": \"category\",\n        \"num_unique_values\": 106,\n        \"samples\": [\n          \"BA\",\n          \"KR\",\n          \"AU\"\n        ],\n        \"semantic_type\": \"\",\n        \"description\": \"\"\n      }\n    },\n    {\n      \"column\": \"Location Full\",\n      \"properties\": {\n        \"dtype\": \"category\",\n        \"num_unique_values\": 106,\n        \"samples\": [\n          \"Bosnia and Herzegovina\",\n          \"South Korea\",\n          \"Australia\"\n        ],\n        \"semantic_type\": \"\",\n        \"description\": \"\"\n      }\n    },\n    {\n      \"column\": \"Size\",\n      \"properties\": {\n        \"dtype\": \"category\",\n        \"num_unique_values\": 4,\n        \"samples\": [\n          \"L\",\n          \"S\",\n          \"M\"\n        ],\n        \"semantic_type\": \"\",\n        \"description\": \"\"\n      }\n    },\n    {\n      \"column\": \"Academic Reputation\",\n      \"properties\": {\n        \"dtype\": \"number\",\n        \"std\": 22.326230125319462,\n        \"min\": 1.3,\n        \"max\": 100.0,\n        \"num_unique_values\": 472,\n        \"samples\": [\n          68.3,\n          93.7,\n          67.2\n        ],\n        \"semantic_type\": \"\",\n        \"description\": \"\"\n      }\n    },\n    {\n      \"column\": \"Employer Reputation\",\n      \"properties\": {\n        \"dtype\": \"number\",\n        \"std\": 23.784986059023957,\n        \"min\": 1.1,\n        \"max\": 100.0,\n        \"num_unique_values\": 500,\n        \"samples\": [\n          53.9,\n          83.9,\n          23.0\n        ],\n        \"semantic_type\": \"\",\n        \"description\": \"\"\n      }\n    },\n    {\n      \"column\": \"Faculty Student\",\n      \"properties\": {\n        \"dtype\": \"number\",\n        \"std\": 27.61301693834906,\n        \"min\": 1.0,\n        \"max\": 100.0,\n        \"num_unique_values\": 590,\n        \"samples\": [\n          55.2,\n          64.5,\n          64.4\n        ],\n        \"semantic_type\": \"\",\n        \"description\": \"\"\n      }\n    },\n    {\n      \"column\": \"Citations per Faculty\",\n      \"properties\": {\n        \"dtype\": \"number\",\n        \"std\": 27.870691548823533,\n        \"min\": 1.0,\n        \"max\": 100.0,\n        \"num_unique_values\": 566,\n        \"samples\": [\n          50.2,\n          6.3,\n          66.0\n        ],\n        \"semantic_type\": \"\",\n        \"description\": \"\"\n      }\n    },\n    {\n      \"column\": \"International Faculty\",\n      \"properties\": {\n        \"dtype\": \"number\",\n        \"std\": 34.32893453868059,\n        \"min\": 1.0,\n        \"max\": 100.0,\n        \"num_unique_values\": 531,\n        \"samples\": [\n          23.7,\n          90.9,\n          94.1\n        ],\n        \"semantic_type\": \"\",\n        \"description\": \"\"\n      }\n    },\n    {\n      \"column\": \"International Students\",\n      \"properties\": {\n        \"dtype\": \"number\",\n        \"std\": 31.098689102100533,\n        \"min\": 1.0,\n        \"max\": 100.0,\n        \"num_unique_values\": 521,\n        \"samples\": [\n          96.6,\n          42.8,\n          98.6\n        ],\n        \"semantic_type\": \"\",\n        \"description\": \"\"\n      }\n    },\n    {\n      \"column\": \"International Research Network\",\n      \"properties\": {\n        \"dtype\": \"number\",\n        \"std\": 29.86658763581323,\n        \"min\": 1.0,\n        \"max\": 100.0,\n        \"num_unique_values\": 764,\n        \"samples\": [\n          55.4,\n          89.2,\n          9.5\n        ],\n        \"semantic_type\": \"\",\n        \"description\": \"\"\n      }\n    },\n    {\n      \"column\": \"Employment Outcomes\",\n      \"properties\": {\n        \"dtype\": \"number\",\n        \"std\": 27.351315330516073,\n        \"min\": 1.2,\n        \"max\": 100.0,\n        \"num_unique_values\": 569,\n        \"samples\": [\n          46.4,\n          23.7,\n          35.1\n        ],\n        \"semantic_type\": \"\",\n        \"description\": \"\"\n      }\n    },\n    {\n      \"column\": \"Sustainability\",\n      \"properties\": {\n        \"dtype\": \"number\",\n        \"std\": 31.074717904316984,\n        \"min\": 1.0,\n        \"max\": 100.0,\n        \"num_unique_values\": 395,\n        \"samples\": [\n          79.3,\n          6.5,\n          34.8\n        ],\n        \"semantic_type\": \"\",\n        \"description\": \"\"\n      }\n    },\n    {\n      \"column\": \"QS Overall Score\",\n      \"properties\": {\n        \"dtype\": \"category\",\n        \"num_unique_values\": 363,\n        \"samples\": [\n          \"46.1\",\n          \"81.3\",\n          \"87.9\"\n        ],\n        \"semantic_type\": \"\",\n        \"description\": \"\"\n      }\n    }\n  ]\n}"
            }
          },
          "metadata": {},
          "execution_count": 4
        }
      ]
    },
    {
      "cell_type": "code",
      "source": [
        "df.tail()"
      ],
      "metadata": {
        "colab": {
          "base_uri": "https://localhost:8080/",
          "height": 417
        },
        "id": "Qoj4neK6M4Hu",
        "outputId": "f4a13664-1d22-44f2-95fe-6ec5fb335f54"
      },
      "execution_count": 5,
      "outputs": [
        {
          "output_type": "execute_result",
          "data": {
            "text/plain": [
              "     2025 Rank  2024 Rank                          Institution Name Location  \\\n",
              "1498     1401+  1201-1400           University of Montana Missoula        US   \n",
              "1499     1401+      1401+                      University of Oradea       RO   \n",
              "1500     1401+  1201-1400                  University of San Carlos       PH   \n",
              "1501     1401+      1401+  University Politehnica of Timisoara, UPT       RO   \n",
              "1502     1401+      1401+             Western Washington University       US   \n",
              "\n",
              "      Location Full Size  Academic Reputation  Employer Reputation  \\\n",
              "1498  United States    M                  3.0                  2.2   \n",
              "1499        Romania    L                  5.6                  2.2   \n",
              "1500    Philippines    M                  7.2                  9.4   \n",
              "1501        Romania    L                  4.1                  4.2   \n",
              "1502  United States    L                  2.6                  2.6   \n",
              "\n",
              "      Faculty Student  Citations per Faculty  International Faculty  \\\n",
              "1498             10.6                    6.1                    1.3   \n",
              "1499              4.0                    1.9                    1.5   \n",
              "1500              3.3                    1.8                    2.1   \n",
              "1501              7.2                    3.9                    1.4   \n",
              "1502              7.3                    3.5                    9.7   \n",
              "\n",
              "      International Students  International Research Network  \\\n",
              "1498                     1.9                             6.5   \n",
              "1499                     5.2                            34.5   \n",
              "1500                     2.1                             6.4   \n",
              "1501                     2.5                            18.6   \n",
              "1502                     1.6                            12.4   \n",
              "\n",
              "      Employment Outcomes  Sustainability QS Overall Score  \n",
              "1498                  3.1             1.0                -  \n",
              "1499                  6.2             2.3                -  \n",
              "1500                  9.6             1.0                -  \n",
              "1501                  3.9             1.1                -  \n",
              "1502                  1.5             1.1                -  "
            ],
            "text/html": [
              "\n",
              "  <div id=\"df-fef989db-f661-411f-9476-ab6ec6978caf\" class=\"colab-df-container\">\n",
              "    <div>\n",
              "<style scoped>\n",
              "    .dataframe tbody tr th:only-of-type {\n",
              "        vertical-align: middle;\n",
              "    }\n",
              "\n",
              "    .dataframe tbody tr th {\n",
              "        vertical-align: top;\n",
              "    }\n",
              "\n",
              "    .dataframe thead th {\n",
              "        text-align: right;\n",
              "    }\n",
              "</style>\n",
              "<table border=\"1\" class=\"dataframe\">\n",
              "  <thead>\n",
              "    <tr style=\"text-align: right;\">\n",
              "      <th></th>\n",
              "      <th>2025 Rank</th>\n",
              "      <th>2024 Rank</th>\n",
              "      <th>Institution Name</th>\n",
              "      <th>Location</th>\n",
              "      <th>Location Full</th>\n",
              "      <th>Size</th>\n",
              "      <th>Academic Reputation</th>\n",
              "      <th>Employer Reputation</th>\n",
              "      <th>Faculty Student</th>\n",
              "      <th>Citations per Faculty</th>\n",
              "      <th>International Faculty</th>\n",
              "      <th>International Students</th>\n",
              "      <th>International Research Network</th>\n",
              "      <th>Employment Outcomes</th>\n",
              "      <th>Sustainability</th>\n",
              "      <th>QS Overall Score</th>\n",
              "    </tr>\n",
              "  </thead>\n",
              "  <tbody>\n",
              "    <tr>\n",
              "      <th>1498</th>\n",
              "      <td>1401+</td>\n",
              "      <td>1201-1400</td>\n",
              "      <td>University of Montana Missoula</td>\n",
              "      <td>US</td>\n",
              "      <td>United States</td>\n",
              "      <td>M</td>\n",
              "      <td>3.0</td>\n",
              "      <td>2.2</td>\n",
              "      <td>10.6</td>\n",
              "      <td>6.1</td>\n",
              "      <td>1.3</td>\n",
              "      <td>1.9</td>\n",
              "      <td>6.5</td>\n",
              "      <td>3.1</td>\n",
              "      <td>1.0</td>\n",
              "      <td>-</td>\n",
              "    </tr>\n",
              "    <tr>\n",
              "      <th>1499</th>\n",
              "      <td>1401+</td>\n",
              "      <td>1401+</td>\n",
              "      <td>University of Oradea</td>\n",
              "      <td>RO</td>\n",
              "      <td>Romania</td>\n",
              "      <td>L</td>\n",
              "      <td>5.6</td>\n",
              "      <td>2.2</td>\n",
              "      <td>4.0</td>\n",
              "      <td>1.9</td>\n",
              "      <td>1.5</td>\n",
              "      <td>5.2</td>\n",
              "      <td>34.5</td>\n",
              "      <td>6.2</td>\n",
              "      <td>2.3</td>\n",
              "      <td>-</td>\n",
              "    </tr>\n",
              "    <tr>\n",
              "      <th>1500</th>\n",
              "      <td>1401+</td>\n",
              "      <td>1201-1400</td>\n",
              "      <td>University of San Carlos</td>\n",
              "      <td>PH</td>\n",
              "      <td>Philippines</td>\n",
              "      <td>M</td>\n",
              "      <td>7.2</td>\n",
              "      <td>9.4</td>\n",
              "      <td>3.3</td>\n",
              "      <td>1.8</td>\n",
              "      <td>2.1</td>\n",
              "      <td>2.1</td>\n",
              "      <td>6.4</td>\n",
              "      <td>9.6</td>\n",
              "      <td>1.0</td>\n",
              "      <td>-</td>\n",
              "    </tr>\n",
              "    <tr>\n",
              "      <th>1501</th>\n",
              "      <td>1401+</td>\n",
              "      <td>1401+</td>\n",
              "      <td>University Politehnica of Timisoara, UPT</td>\n",
              "      <td>RO</td>\n",
              "      <td>Romania</td>\n",
              "      <td>L</td>\n",
              "      <td>4.1</td>\n",
              "      <td>4.2</td>\n",
              "      <td>7.2</td>\n",
              "      <td>3.9</td>\n",
              "      <td>1.4</td>\n",
              "      <td>2.5</td>\n",
              "      <td>18.6</td>\n",
              "      <td>3.9</td>\n",
              "      <td>1.1</td>\n",
              "      <td>-</td>\n",
              "    </tr>\n",
              "    <tr>\n",
              "      <th>1502</th>\n",
              "      <td>1401+</td>\n",
              "      <td>1401+</td>\n",
              "      <td>Western Washington University</td>\n",
              "      <td>US</td>\n",
              "      <td>United States</td>\n",
              "      <td>L</td>\n",
              "      <td>2.6</td>\n",
              "      <td>2.6</td>\n",
              "      <td>7.3</td>\n",
              "      <td>3.5</td>\n",
              "      <td>9.7</td>\n",
              "      <td>1.6</td>\n",
              "      <td>12.4</td>\n",
              "      <td>1.5</td>\n",
              "      <td>1.1</td>\n",
              "      <td>-</td>\n",
              "    </tr>\n",
              "  </tbody>\n",
              "</table>\n",
              "</div>\n",
              "    <div class=\"colab-df-buttons\">\n",
              "\n",
              "  <div class=\"colab-df-container\">\n",
              "    <button class=\"colab-df-convert\" onclick=\"convertToInteractive('df-fef989db-f661-411f-9476-ab6ec6978caf')\"\n",
              "            title=\"Convert this dataframe to an interactive table.\"\n",
              "            style=\"display:none;\">\n",
              "\n",
              "  <svg xmlns=\"http://www.w3.org/2000/svg\" height=\"24px\" viewBox=\"0 -960 960 960\">\n",
              "    <path d=\"M120-120v-720h720v720H120Zm60-500h600v-160H180v160Zm220 220h160v-160H400v160Zm0 220h160v-160H400v160ZM180-400h160v-160H180v160Zm440 0h160v-160H620v160ZM180-180h160v-160H180v160Zm440 0h160v-160H620v160Z\"/>\n",
              "  </svg>\n",
              "    </button>\n",
              "\n",
              "  <style>\n",
              "    .colab-df-container {\n",
              "      display:flex;\n",
              "      gap: 12px;\n",
              "    }\n",
              "\n",
              "    .colab-df-convert {\n",
              "      background-color: #E8F0FE;\n",
              "      border: none;\n",
              "      border-radius: 50%;\n",
              "      cursor: pointer;\n",
              "      display: none;\n",
              "      fill: #1967D2;\n",
              "      height: 32px;\n",
              "      padding: 0 0 0 0;\n",
              "      width: 32px;\n",
              "    }\n",
              "\n",
              "    .colab-df-convert:hover {\n",
              "      background-color: #E2EBFA;\n",
              "      box-shadow: 0px 1px 2px rgba(60, 64, 67, 0.3), 0px 1px 3px 1px rgba(60, 64, 67, 0.15);\n",
              "      fill: #174EA6;\n",
              "    }\n",
              "\n",
              "    .colab-df-buttons div {\n",
              "      margin-bottom: 4px;\n",
              "    }\n",
              "\n",
              "    [theme=dark] .colab-df-convert {\n",
              "      background-color: #3B4455;\n",
              "      fill: #D2E3FC;\n",
              "    }\n",
              "\n",
              "    [theme=dark] .colab-df-convert:hover {\n",
              "      background-color: #434B5C;\n",
              "      box-shadow: 0px 1px 3px 1px rgba(0, 0, 0, 0.15);\n",
              "      filter: drop-shadow(0px 1px 2px rgba(0, 0, 0, 0.3));\n",
              "      fill: #FFFFFF;\n",
              "    }\n",
              "  </style>\n",
              "\n",
              "    <script>\n",
              "      const buttonEl =\n",
              "        document.querySelector('#df-fef989db-f661-411f-9476-ab6ec6978caf button.colab-df-convert');\n",
              "      buttonEl.style.display =\n",
              "        google.colab.kernel.accessAllowed ? 'block' : 'none';\n",
              "\n",
              "      async function convertToInteractive(key) {\n",
              "        const element = document.querySelector('#df-fef989db-f661-411f-9476-ab6ec6978caf');\n",
              "        const dataTable =\n",
              "          await google.colab.kernel.invokeFunction('convertToInteractive',\n",
              "                                                    [key], {});\n",
              "        if (!dataTable) return;\n",
              "\n",
              "        const docLinkHtml = 'Like what you see? Visit the ' +\n",
              "          '<a target=\"_blank\" href=https://colab.research.google.com/notebooks/data_table.ipynb>data table notebook</a>'\n",
              "          + ' to learn more about interactive tables.';\n",
              "        element.innerHTML = '';\n",
              "        dataTable['output_type'] = 'display_data';\n",
              "        await google.colab.output.renderOutput(dataTable, element);\n",
              "        const docLink = document.createElement('div');\n",
              "        docLink.innerHTML = docLinkHtml;\n",
              "        element.appendChild(docLink);\n",
              "      }\n",
              "    </script>\n",
              "  </div>\n",
              "\n",
              "\n",
              "<div id=\"df-4269d3e9-4f27-474f-b634-b4c06fd66777\">\n",
              "  <button class=\"colab-df-quickchart\" onclick=\"quickchart('df-4269d3e9-4f27-474f-b634-b4c06fd66777')\"\n",
              "            title=\"Suggest charts\"\n",
              "            style=\"display:none;\">\n",
              "\n",
              "<svg xmlns=\"http://www.w3.org/2000/svg\" height=\"24px\"viewBox=\"0 0 24 24\"\n",
              "     width=\"24px\">\n",
              "    <g>\n",
              "        <path d=\"M19 3H5c-1.1 0-2 .9-2 2v14c0 1.1.9 2 2 2h14c1.1 0 2-.9 2-2V5c0-1.1-.9-2-2-2zM9 17H7v-7h2v7zm4 0h-2V7h2v10zm4 0h-2v-4h2v4z\"/>\n",
              "    </g>\n",
              "</svg>\n",
              "  </button>\n",
              "\n",
              "<style>\n",
              "  .colab-df-quickchart {\n",
              "      --bg-color: #E8F0FE;\n",
              "      --fill-color: #1967D2;\n",
              "      --hover-bg-color: #E2EBFA;\n",
              "      --hover-fill-color: #174EA6;\n",
              "      --disabled-fill-color: #AAA;\n",
              "      --disabled-bg-color: #DDD;\n",
              "  }\n",
              "\n",
              "  [theme=dark] .colab-df-quickchart {\n",
              "      --bg-color: #3B4455;\n",
              "      --fill-color: #D2E3FC;\n",
              "      --hover-bg-color: #434B5C;\n",
              "      --hover-fill-color: #FFFFFF;\n",
              "      --disabled-bg-color: #3B4455;\n",
              "      --disabled-fill-color: #666;\n",
              "  }\n",
              "\n",
              "  .colab-df-quickchart {\n",
              "    background-color: var(--bg-color);\n",
              "    border: none;\n",
              "    border-radius: 50%;\n",
              "    cursor: pointer;\n",
              "    display: none;\n",
              "    fill: var(--fill-color);\n",
              "    height: 32px;\n",
              "    padding: 0;\n",
              "    width: 32px;\n",
              "  }\n",
              "\n",
              "  .colab-df-quickchart:hover {\n",
              "    background-color: var(--hover-bg-color);\n",
              "    box-shadow: 0 1px 2px rgba(60, 64, 67, 0.3), 0 1px 3px 1px rgba(60, 64, 67, 0.15);\n",
              "    fill: var(--button-hover-fill-color);\n",
              "  }\n",
              "\n",
              "  .colab-df-quickchart-complete:disabled,\n",
              "  .colab-df-quickchart-complete:disabled:hover {\n",
              "    background-color: var(--disabled-bg-color);\n",
              "    fill: var(--disabled-fill-color);\n",
              "    box-shadow: none;\n",
              "  }\n",
              "\n",
              "  .colab-df-spinner {\n",
              "    border: 2px solid var(--fill-color);\n",
              "    border-color: transparent;\n",
              "    border-bottom-color: var(--fill-color);\n",
              "    animation:\n",
              "      spin 1s steps(1) infinite;\n",
              "  }\n",
              "\n",
              "  @keyframes spin {\n",
              "    0% {\n",
              "      border-color: transparent;\n",
              "      border-bottom-color: var(--fill-color);\n",
              "      border-left-color: var(--fill-color);\n",
              "    }\n",
              "    20% {\n",
              "      border-color: transparent;\n",
              "      border-left-color: var(--fill-color);\n",
              "      border-top-color: var(--fill-color);\n",
              "    }\n",
              "    30% {\n",
              "      border-color: transparent;\n",
              "      border-left-color: var(--fill-color);\n",
              "      border-top-color: var(--fill-color);\n",
              "      border-right-color: var(--fill-color);\n",
              "    }\n",
              "    40% {\n",
              "      border-color: transparent;\n",
              "      border-right-color: var(--fill-color);\n",
              "      border-top-color: var(--fill-color);\n",
              "    }\n",
              "    60% {\n",
              "      border-color: transparent;\n",
              "      border-right-color: var(--fill-color);\n",
              "    }\n",
              "    80% {\n",
              "      border-color: transparent;\n",
              "      border-right-color: var(--fill-color);\n",
              "      border-bottom-color: var(--fill-color);\n",
              "    }\n",
              "    90% {\n",
              "      border-color: transparent;\n",
              "      border-bottom-color: var(--fill-color);\n",
              "    }\n",
              "  }\n",
              "</style>\n",
              "\n",
              "  <script>\n",
              "    async function quickchart(key) {\n",
              "      const quickchartButtonEl =\n",
              "        document.querySelector('#' + key + ' button');\n",
              "      quickchartButtonEl.disabled = true;  // To prevent multiple clicks.\n",
              "      quickchartButtonEl.classList.add('colab-df-spinner');\n",
              "      try {\n",
              "        const charts = await google.colab.kernel.invokeFunction(\n",
              "            'suggestCharts', [key], {});\n",
              "      } catch (error) {\n",
              "        console.error('Error during call to suggestCharts:', error);\n",
              "      }\n",
              "      quickchartButtonEl.classList.remove('colab-df-spinner');\n",
              "      quickchartButtonEl.classList.add('colab-df-quickchart-complete');\n",
              "    }\n",
              "    (() => {\n",
              "      let quickchartButtonEl =\n",
              "        document.querySelector('#df-4269d3e9-4f27-474f-b634-b4c06fd66777 button');\n",
              "      quickchartButtonEl.style.display =\n",
              "        google.colab.kernel.accessAllowed ? 'block' : 'none';\n",
              "    })();\n",
              "  </script>\n",
              "</div>\n",
              "\n",
              "    </div>\n",
              "  </div>\n"
            ],
            "application/vnd.google.colaboratory.intrinsic+json": {
              "type": "dataframe",
              "summary": "{\n  \"name\": \"df\",\n  \"rows\": 5,\n  \"fields\": [\n    {\n      \"column\": \"2025 Rank\",\n      \"properties\": {\n        \"dtype\": \"category\",\n        \"num_unique_values\": 1,\n        \"samples\": [\n          \"1401+\"\n        ],\n        \"semantic_type\": \"\",\n        \"description\": \"\"\n      }\n    },\n    {\n      \"column\": \"2024 Rank\",\n      \"properties\": {\n        \"dtype\": \"category\",\n        \"num_unique_values\": 2,\n        \"samples\": [\n          \"1401+\"\n        ],\n        \"semantic_type\": \"\",\n        \"description\": \"\"\n      }\n    },\n    {\n      \"column\": \"Institution Name\",\n      \"properties\": {\n        \"dtype\": \"string\",\n        \"num_unique_values\": 5,\n        \"samples\": [\n          \"University of Oradea\"\n        ],\n        \"semantic_type\": \"\",\n        \"description\": \"\"\n      }\n    },\n    {\n      \"column\": \"Location\",\n      \"properties\": {\n        \"dtype\": \"string\",\n        \"num_unique_values\": 3,\n        \"samples\": [\n          \"US\"\n        ],\n        \"semantic_type\": \"\",\n        \"description\": \"\"\n      }\n    },\n    {\n      \"column\": \"Location Full\",\n      \"properties\": {\n        \"dtype\": \"string\",\n        \"num_unique_values\": 3,\n        \"samples\": [\n          \"United States\"\n        ],\n        \"semantic_type\": \"\",\n        \"description\": \"\"\n      }\n    },\n    {\n      \"column\": \"Size\",\n      \"properties\": {\n        \"dtype\": \"category\",\n        \"num_unique_values\": 2,\n        \"samples\": [\n          \"L\"\n        ],\n        \"semantic_type\": \"\",\n        \"description\": \"\"\n      }\n    },\n    {\n      \"column\": \"Academic Reputation\",\n      \"properties\": {\n        \"dtype\": \"number\",\n        \"std\": 1.905255888325765,\n        \"min\": 2.6,\n        \"max\": 7.2,\n        \"num_unique_values\": 5,\n        \"samples\": [\n          5.6\n        ],\n        \"semantic_type\": \"\",\n        \"description\": \"\"\n      }\n    },\n    {\n      \"column\": \"Employer Reputation\",\n      \"properties\": {\n        \"dtype\": \"number\",\n        \"std\": 3.0646370095004727,\n        \"min\": 2.2,\n        \"max\": 9.4,\n        \"num_unique_values\": 4,\n        \"samples\": [\n          9.4\n        ],\n        \"semantic_type\": \"\",\n        \"description\": \"\"\n      }\n    },\n    {\n      \"column\": \"Faculty Student\",\n      \"properties\": {\n        \"dtype\": \"number\",\n        \"std\": 2.9337689070545414,\n        \"min\": 3.3,\n        \"max\": 10.6,\n        \"num_unique_values\": 5,\n        \"samples\": [\n          4.0\n        ],\n        \"semantic_type\": \"\",\n        \"description\": \"\"\n      }\n    },\n    {\n      \"column\": \"Citations per Faculty\",\n      \"properties\": {\n        \"dtype\": \"number\",\n        \"std\": 1.7572706109191034,\n        \"min\": 1.8,\n        \"max\": 6.1,\n        \"num_unique_values\": 5,\n        \"samples\": [\n          1.9\n        ],\n        \"semantic_type\": \"\",\n        \"description\": \"\"\n      }\n    },\n    {\n      \"column\": \"International Faculty\",\n      \"properties\": {\n        \"dtype\": \"number\",\n        \"std\": 3.6469165057620936,\n        \"min\": 1.3,\n        \"max\": 9.7,\n        \"num_unique_values\": 5,\n        \"samples\": [\n          1.5\n        ],\n        \"semantic_type\": \"\",\n        \"description\": \"\"\n      }\n    },\n    {\n      \"column\": \"International Students\",\n      \"properties\": {\n        \"dtype\": \"number\",\n        \"std\": 1.4570518178843195,\n        \"min\": 1.6,\n        \"max\": 5.2,\n        \"num_unique_values\": 5,\n        \"samples\": [\n          5.2\n        ],\n        \"semantic_type\": \"\",\n        \"description\": \"\"\n      }\n    },\n    {\n      \"column\": \"International Research Network\",\n      \"properties\": {\n        \"dtype\": \"number\",\n        \"std\": 11.660488840524657,\n        \"min\": 6.4,\n        \"max\": 34.5,\n        \"num_unique_values\": 5,\n        \"samples\": [\n          34.5\n        ],\n        \"semantic_type\": \"\",\n        \"description\": \"\"\n      }\n    },\n    {\n      \"column\": \"Employment Outcomes\",\n      \"properties\": {\n        \"dtype\": \"number\",\n        \"std\": 3.1453139747885266,\n        \"min\": 1.5,\n        \"max\": 9.6,\n        \"num_unique_values\": 5,\n        \"samples\": [\n          6.2\n        ],\n        \"semantic_type\": \"\",\n        \"description\": \"\"\n      }\n    },\n    {\n      \"column\": \"Sustainability\",\n      \"properties\": {\n        \"dtype\": \"number\",\n        \"std\": 0.5612486080160911,\n        \"min\": 1.0,\n        \"max\": 2.3,\n        \"num_unique_values\": 3,\n        \"samples\": [\n          1.0\n        ],\n        \"semantic_type\": \"\",\n        \"description\": \"\"\n      }\n    },\n    {\n      \"column\": \"QS Overall Score\",\n      \"properties\": {\n        \"dtype\": \"category\",\n        \"num_unique_values\": 1,\n        \"samples\": [\n          \"-\"\n        ],\n        \"semantic_type\": \"\",\n        \"description\": \"\"\n      }\n    }\n  ]\n}"
            }
          },
          "metadata": {},
          "execution_count": 5
        }
      ]
    },
    {
      "cell_type": "code",
      "source": [
        "df.info()"
      ],
      "metadata": {
        "colab": {
          "base_uri": "https://localhost:8080/"
        },
        "id": "byG5fIcbM49m",
        "outputId": "f960f29b-f64e-4227-b692-399c6f34d379"
      },
      "execution_count": 6,
      "outputs": [
        {
          "output_type": "stream",
          "name": "stdout",
          "text": [
            "<class 'pandas.core.frame.DataFrame'>\n",
            "RangeIndex: 1503 entries, 0 to 1502\n",
            "Data columns (total 16 columns):\n",
            " #   Column                          Non-Null Count  Dtype  \n",
            "---  ------                          --------------  -----  \n",
            " 0   2025 Rank                       1503 non-null   object \n",
            " 1   2024 Rank                       1482 non-null   object \n",
            " 2   Institution Name                1503 non-null   object \n",
            " 3   Location                        1503 non-null   object \n",
            " 4   Location Full                   1503 non-null   object \n",
            " 5   Size                            1503 non-null   object \n",
            " 6   Academic Reputation             1503 non-null   float64\n",
            " 7   Employer Reputation             1503 non-null   float64\n",
            " 8   Faculty Student                 1503 non-null   float64\n",
            " 9   Citations per Faculty           1503 non-null   float64\n",
            " 10  International Faculty           1403 non-null   float64\n",
            " 11  International Students          1445 non-null   float64\n",
            " 12  International Research Network  1502 non-null   float64\n",
            " 13  Employment Outcomes             1503 non-null   float64\n",
            " 14  Sustainability                  1484 non-null   float64\n",
            " 15  QS Overall Score                1503 non-null   object \n",
            "dtypes: float64(9), object(7)\n",
            "memory usage: 188.0+ KB\n"
          ]
        }
      ]
    },
    {
      "cell_type": "code",
      "source": [
        "df.isnull().sum()"
      ],
      "metadata": {
        "colab": {
          "base_uri": "https://localhost:8080/"
        },
        "id": "M3aO4TC6M54u",
        "outputId": "62537df7-2b57-47f7-ac47-de46c74f2684"
      },
      "execution_count": 7,
      "outputs": [
        {
          "output_type": "execute_result",
          "data": {
            "text/plain": [
              "2025 Rank                           0\n",
              "2024 Rank                          21\n",
              "Institution Name                    0\n",
              "Location                            0\n",
              "Location Full                       0\n",
              "Size                                0\n",
              "Academic Reputation                 0\n",
              "Employer Reputation                 0\n",
              "Faculty Student                     0\n",
              "Citations per Faculty               0\n",
              "International Faculty             100\n",
              "International Students             58\n",
              "International Research Network      1\n",
              "Employment Outcomes                 0\n",
              "Sustainability                     19\n",
              "QS Overall Score                    0\n",
              "dtype: int64"
            ]
          },
          "metadata": {},
          "execution_count": 7
        }
      ]
    },
    {
      "cell_type": "code",
      "source": [
        "df['International Faculty'] = df['International Faculty'].fillna(df['International Faculty'].mean())"
      ],
      "metadata": {
        "id": "2I0-N3lQM97d"
      },
      "execution_count": 8,
      "outputs": []
    },
    {
      "cell_type": "code",
      "source": [
        "df['International Students'] = df['International Students'].fillna(df['International Students'].mean())"
      ],
      "metadata": {
        "id": "cXMXAEywNAzt"
      },
      "execution_count": 9,
      "outputs": []
    },
    {
      "cell_type": "code",
      "source": [
        "df['Sustainability'] = df['Sustainability'].fillna(df['Sustainability'].mean())"
      ],
      "metadata": {
        "id": "HevzcAiONDZJ"
      },
      "execution_count": 10,
      "outputs": []
    },
    {
      "cell_type": "code",
      "source": [
        "df.drop(columns='Location',axis=1,inplace=True)"
      ],
      "metadata": {
        "id": "OBQh3A2LNFoZ"
      },
      "execution_count": 11,
      "outputs": []
    },
    {
      "cell_type": "code",
      "source": [
        "df.drop(columns='2024 Rank',axis=1,inplace=True)"
      ],
      "metadata": {
        "id": "tKBZVhHZNHSw"
      },
      "execution_count": 12,
      "outputs": []
    },
    {
      "cell_type": "code",
      "source": [
        "df.columns"
      ],
      "metadata": {
        "colab": {
          "base_uri": "https://localhost:8080/"
        },
        "id": "M-H1WJ5vNI2o",
        "outputId": "b9f6355a-8110-4b9b-e2da-6bb5fa57b99d"
      },
      "execution_count": 13,
      "outputs": [
        {
          "output_type": "execute_result",
          "data": {
            "text/plain": [
              "Index(['2025 Rank', 'Institution Name', 'Location Full', 'Size',\n",
              "       'Academic Reputation', 'Employer Reputation', 'Faculty Student',\n",
              "       'Citations per Faculty', 'International Faculty',\n",
              "       'International Students', 'International Research Network',\n",
              "       'Employment Outcomes', 'Sustainability', 'QS Overall Score'],\n",
              "      dtype='object')"
            ]
          },
          "metadata": {},
          "execution_count": 13
        }
      ]
    },
    {
      "cell_type": "code",
      "source": [
        "df.shape"
      ],
      "metadata": {
        "colab": {
          "base_uri": "https://localhost:8080/"
        },
        "id": "A0E0BlteNKdo",
        "outputId": "989ddcff-30fc-460a-adf2-25bb7e5e5043"
      },
      "execution_count": 14,
      "outputs": [
        {
          "output_type": "execute_result",
          "data": {
            "text/plain": [
              "(1503, 14)"
            ]
          },
          "metadata": {},
          "execution_count": 14
        }
      ]
    },
    {
      "cell_type": "code",
      "source": [
        "df.groupby('Size')['2025 Rank'].count()"
      ],
      "metadata": {
        "colab": {
          "base_uri": "https://localhost:8080/"
        },
        "id": "oUjm-7ojNL7A",
        "outputId": "69c5f80c-7e11-40cc-a8de-cbce3b47c573"
      },
      "execution_count": 15,
      "outputs": [
        {
          "output_type": "execute_result",
          "data": {
            "text/plain": [
              "Size\n",
              "L     691\n",
              "M     372\n",
              "S      88\n",
              "XL    352\n",
              "Name: 2025 Rank, dtype: int64"
            ]
          },
          "metadata": {},
          "execution_count": 15
        }
      ]
    },
    {
      "cell_type": "code",
      "source": [
        "df[df['Location Full'] == 'United States']['2025 Rank'].count()"
      ],
      "metadata": {
        "colab": {
          "base_uri": "https://localhost:8080/"
        },
        "id": "MbDLdhRVNOhY",
        "outputId": "7265973c-9de6-48d9-c36e-f8775f5fdb8e"
      },
      "execution_count": 16,
      "outputs": [
        {
          "output_type": "execute_result",
          "data": {
            "text/plain": [
              "197"
            ]
          },
          "metadata": {},
          "execution_count": 16
        }
      ]
    },
    {
      "cell_type": "code",
      "source": [
        "df.groupby('Location Full')['International Students'].mean()"
      ],
      "metadata": {
        "colab": {
          "base_uri": "https://localhost:8080/"
        },
        "id": "vWhNtJDLNQZ0",
        "outputId": "18aba455-de60-473e-f25a-ab600fd1aef2"
      },
      "execution_count": 17,
      "outputs": [
        {
          "output_type": "execute_result",
          "data": {
            "text/plain": [
              "Location Full\n",
              "Argentina        18.466497\n",
              "Armenia           1.700000\n",
              "Australia        63.576316\n",
              "Austria          72.900000\n",
              "Azerbaijan        2.733333\n",
              "                   ...    \n",
              "United States    23.708938\n",
              "Uruguay           2.525000\n",
              "Uzbekistan        3.300000\n",
              "Venezuela         8.494385\n",
              "Vietnam           1.283333\n",
              "Name: International Students, Length: 106, dtype: float64"
            ]
          },
          "metadata": {},
          "execution_count": 17
        }
      ]
    },
    {
      "cell_type": "code",
      "source": [
        "df.groupby('Location Full')['International Faculty'].mean()"
      ],
      "metadata": {
        "colab": {
          "base_uri": "https://localhost:8080/"
        },
        "id": "0_EsP7pENSIM",
        "outputId": "97a87712-fce9-4756-fee7-b476caef8321"
      },
      "execution_count": 18,
      "outputs": [
        {
          "output_type": "execute_result",
          "data": {
            "text/plain": [
              "Location Full\n",
              "Argentina        18.813135\n",
              "Armenia           5.100000\n",
              "Australia        80.473684\n",
              "Austria          86.037500\n",
              "Azerbaijan       12.300000\n",
              "                   ...    \n",
              "United States    23.762315\n",
              "Uruguay          13.675000\n",
              "Uzbekistan       57.650000\n",
              "Venezuela        10.707250\n",
              "Vietnam          11.050000\n",
              "Name: International Faculty, Length: 106, dtype: float64"
            ]
          },
          "metadata": {},
          "execution_count": 18
        }
      ]
    },
    {
      "cell_type": "code",
      "source": [
        "df.groupby('Location Full')['Sustainability'].mean()"
      ],
      "metadata": {
        "colab": {
          "base_uri": "https://localhost:8080/"
        },
        "id": "XsadzJMhNUCM",
        "outputId": "e5611e59-faec-472f-a6da-5ab7019b464e"
      },
      "execution_count": 19,
      "outputs": [
        {
          "output_type": "execute_result",
          "data": {
            "text/plain": [
              "Location Full\n",
              "Argentina         9.202232\n",
              "Armenia           1.000000\n",
              "Australia        65.744737\n",
              "Austria          25.400000\n",
              "Azerbaijan        9.169766\n",
              "                   ...    \n",
              "United States    29.242640\n",
              "Uruguay           7.227325\n",
              "Uzbekistan        5.450000\n",
              "Venezuela         7.702657\n",
              "Vietnam           8.050000\n",
              "Name: Sustainability, Length: 106, dtype: float64"
            ]
          },
          "metadata": {},
          "execution_count": 19
        }
      ]
    },
    {
      "cell_type": "code",
      "source": [
        "df.groupby('Location Full')['Employment Outcomes'].mean().sort_values(ascending=False)"
      ],
      "metadata": {
        "colab": {
          "base_uri": "https://localhost:8080/"
        },
        "id": "kf9m93sSNWNk",
        "outputId": "a1daed26-e967-4c43-ce30-5af86c21502f"
      },
      "execution_count": 20,
      "outputs": [
        {
          "output_type": "execute_result",
          "data": {
            "text/plain": [
              "Location Full\n",
              "Uganda                  98.300000\n",
              "Malta                   95.900000\n",
              "Ethiopia                95.500000\n",
              "Syrian Arab Republic    90.200000\n",
              "Armenia                 87.400000\n",
              "                          ...    \n",
              "Ecuador                 11.290909\n",
              "Bangladesh              11.220000\n",
              "Czech Republic          10.856250\n",
              "Poland                  10.595455\n",
              "Malaysia                 9.685714\n",
              "Name: Employment Outcomes, Length: 106, dtype: float64"
            ]
          },
          "metadata": {},
          "execution_count": 20
        }
      ]
    },
    {
      "cell_type": "code",
      "source": [
        "df.groupby('Location Full')['Academic Reputation'].mean().sort_values(ascending=False)"
      ],
      "metadata": {
        "colab": {
          "base_uri": "https://localhost:8080/"
        },
        "id": "-2FF4zepNYQM",
        "outputId": "dda97908-2d50-4b59-861f-9ba567f2b573"
      },
      "execution_count": 21,
      "outputs": [
        {
          "output_type": "execute_result",
          "data": {
            "text/plain": [
              "Location Full\n",
              "Hong Kong SAR             60.314286\n",
              "Singapore                 52.775000\n",
              "Netherlands               44.538462\n",
              "Sweden                    40.937500\n",
              "Denmark                   40.400000\n",
              "                            ...    \n",
              "Bolivia                    5.100000\n",
              "Honduras                   5.100000\n",
              "Bosnia and Herzegovina     4.400000\n",
              "Morocco                    3.700000\n",
              "Dominican Republic         2.900000\n",
              "Name: Academic Reputation, Length: 106, dtype: float64"
            ]
          },
          "metadata": {},
          "execution_count": 21
        }
      ]
    },
    {
      "cell_type": "code",
      "source": [
        "df.groupby('Location Full')['Employer Reputation'].mean().sort_values()"
      ],
      "metadata": {
        "colab": {
          "base_uri": "https://localhost:8080/"
        },
        "id": "bJhekKHBNbN-",
        "outputId": "93da979d-123e-4dd1-e180-841081324019"
      },
      "execution_count": 22,
      "outputs": [
        {
          "output_type": "execute_result",
          "data": {
            "text/plain": [
              "Location Full\n",
              "Bosnia and Herzegovina     1.600000\n",
              "Northern Cyprus            2.100000\n",
              "Iceland                    2.500000\n",
              "Bolivia                    2.850000\n",
              "Armenia                    2.900000\n",
              "                            ...    \n",
              "Sweden                    33.712500\n",
              "Hong Kong SAR             35.414286\n",
              "Netherlands               39.961538\n",
              "Singapore                 45.975000\n",
              "Philippines               46.300000\n",
              "Name: Employer Reputation, Length: 106, dtype: float64"
            ]
          },
          "metadata": {},
          "execution_count": 22
        }
      ]
    },
    {
      "cell_type": "code",
      "source": [
        "df.info()"
      ],
      "metadata": {
        "colab": {
          "base_uri": "https://localhost:8080/"
        },
        "id": "vgRtmHZ_NdkM",
        "outputId": "ab71cff9-e62a-4a65-b3ac-ac44eead2cf3"
      },
      "execution_count": 23,
      "outputs": [
        {
          "output_type": "stream",
          "name": "stdout",
          "text": [
            "<class 'pandas.core.frame.DataFrame'>\n",
            "RangeIndex: 1503 entries, 0 to 1502\n",
            "Data columns (total 14 columns):\n",
            " #   Column                          Non-Null Count  Dtype  \n",
            "---  ------                          --------------  -----  \n",
            " 0   2025 Rank                       1503 non-null   object \n",
            " 1   Institution Name                1503 non-null   object \n",
            " 2   Location Full                   1503 non-null   object \n",
            " 3   Size                            1503 non-null   object \n",
            " 4   Academic Reputation             1503 non-null   float64\n",
            " 5   Employer Reputation             1503 non-null   float64\n",
            " 6   Faculty Student                 1503 non-null   float64\n",
            " 7   Citations per Faculty           1503 non-null   float64\n",
            " 8   International Faculty           1503 non-null   float64\n",
            " 9   International Students          1503 non-null   float64\n",
            " 10  International Research Network  1502 non-null   float64\n",
            " 11  Employment Outcomes             1503 non-null   float64\n",
            " 12  Sustainability                  1503 non-null   float64\n",
            " 13  QS Overall Score                1503 non-null   object \n",
            "dtypes: float64(9), object(5)\n",
            "memory usage: 164.5+ KB\n"
          ]
        }
      ]
    },
    {
      "cell_type": "code",
      "source": [
        "df.groupby('Location Full')['Size'].count().sort_values(ascending=False)"
      ],
      "metadata": {
        "colab": {
          "base_uri": "https://localhost:8080/"
        },
        "id": "d-n3jTlONfLU",
        "outputId": "1bb82ab4-ce94-429b-b96a-cf1a8c26b8fe"
      },
      "execution_count": 24,
      "outputs": [
        {
          "output_type": "execute_result",
          "data": {
            "text/plain": [
              "Location Full\n",
              "United States       197\n",
              "United Kingdom       90\n",
              "China (Mainland)     71\n",
              "Japan                49\n",
              "Germany              48\n",
              "                   ... \n",
              "Paraguay              1\n",
              "Iceland               1\n",
              "Luxembourg            1\n",
              "Puerto Rico           1\n",
              "Ethiopia              1\n",
              "Name: Size, Length: 106, dtype: int64"
            ]
          },
          "metadata": {},
          "execution_count": 24
        }
      ]
    },
    {
      "cell_type": "code",
      "source": [
        "df.groupby('Location Full')['Citations per Faculty'].mean()"
      ],
      "metadata": {
        "colab": {
          "base_uri": "https://localhost:8080/"
        },
        "id": "18gi5RZiNhPy",
        "outputId": "6cc5ee09-b7a8-4453-cf42-9bafb2644e4f"
      },
      "execution_count": 25,
      "outputs": [
        {
          "output_type": "execute_result",
          "data": {
            "text/plain": [
              "Location Full\n",
              "Argentina         1.620000\n",
              "Armenia           1.300000\n",
              "Australia        60.800000\n",
              "Austria          18.787500\n",
              "Azerbaijan        1.233333\n",
              "                   ...    \n",
              "United States    30.600508\n",
              "Uruguay           1.250000\n",
              "Uzbekistan        1.750000\n",
              "Venezuela         1.442857\n",
              "Vietnam          18.583333\n",
              "Name: Citations per Faculty, Length: 106, dtype: float64"
            ]
          },
          "metadata": {},
          "execution_count": 25
        }
      ]
    },
    {
      "cell_type": "code",
      "source": [
        "df.groupby('Location Full')['International Research Network'].mean().sort_values(ascending=False)"
      ],
      "metadata": {
        "colab": {
          "base_uri": "https://localhost:8080/"
        },
        "id": "AIMBVAZ2NjB6",
        "outputId": "845c5a39-f438-456e-a2de-a4ad374d056c"
      },
      "execution_count": 26,
      "outputs": [
        {
          "output_type": "execute_result",
          "data": {
            "text/plain": [
              "Location Full\n",
              "Denmark               91.120000\n",
              "South Africa          89.663636\n",
              "Sweden                89.250000\n",
              "Netherlands           87.576923\n",
              "Belgium               85.777778\n",
              "                        ...    \n",
              "Azerbaijan             9.300000\n",
              "Kazakhstan             8.261905\n",
              "Panama                 6.950000\n",
              "Dominican Republic     4.850000\n",
              "Kyrgyzstan             3.800000\n",
              "Name: International Research Network, Length: 106, dtype: float64"
            ]
          },
          "metadata": {},
          "execution_count": 26
        }
      ]
    },
    {
      "cell_type": "code",
      "source": [
        "df['QS Overall Score'].unique()"
      ],
      "metadata": {
        "colab": {
          "base_uri": "https://localhost:8080/"
        },
        "id": "F56vC8hDNlAS",
        "outputId": "7af310bd-06c6-44df-a38e-8c54a3270243"
      },
      "execution_count": 27,
      "outputs": [
        {
          "output_type": "execute_result",
          "data": {
            "text/plain": [
              "array(['100', '98.5', '96.9', '96.8', '96.7', '96.1', '93.9', '93.7',\n",
              "       '91.6', '90.9', '90.3', '90.1', '88.9', '88.5', '88.4', '87.9',\n",
              "       '87.6', '87.3', '87.1', '86.5', '86.2', '85.5', '85.2', '84.7',\n",
              "       '84.1', '83.5', '83.3', '83.2', '83', '82.4', '82.3', '82.1', '82',\n",
              "       '81.3', '81.2', '81', '80.3', '80.2', '79.8', '79.6', '79', '77.8',\n",
              "       '77.5', '77.1', '77', '76', '75.7', '75.4', '73.7', '72.9', '72.1',\n",
              "       '72', '71.6', '71.2', '70.8', '70.7', '70.3', '69.7', '69.5', '69',\n",
              "       '68.7', '68.2', '67.6', '67.1', '67', '65.7', '65.6', '65.3',\n",
              "       '65.2', '65', '64.7', '64.1', '63.8', '63.7', '63.5', '62.9',\n",
              "       '62.4', '61.7', '61.6', '61.5', '61.4', '61.2', '60.6', '60.3',\n",
              "       '59.9', '59.6', '59.5', '59.4', '59.3', '59.2', '59.1', '58.8',\n",
              "       '58.5', '58.3', '58.2', '58.1', '57.9', '57.3', '57.2', '57.1',\n",
              "       '56.8', '56.3', '56.1', '55.8', '55.7', '55.5', '55.2', '55',\n",
              "       '54.8', '54.5', '54.4', '54.3', '54.2', '54.1', '53', '54', '53.9',\n",
              "       '53.8', '53.7', '53.6', '53.3', '52.7', '52.5', '52.3', '52.2',\n",
              "       '52.1', '51.9', '51.8', '51.6', '51.5', '51.3', '51.2', '51.1',\n",
              "       '51', '50.9', '50.7', '50.3', '50.1', '50', '49.9', '49.8', '49.3',\n",
              "       '49.2', '49', '48.9', '48.7', '48.5', '48.3', '48.2', '48.1',\n",
              "       '47.6', '47.5', '47.4', '47.3', '47.2', '47.1', '46.7', '46.8',\n",
              "       '38.5', '46.6', '46.4', '46.3', '46.2', '46.1', '46', '45.8',\n",
              "       '45.7', '45.6', '45.2', '45.1', '45', '44.8', '44.7', '44.4',\n",
              "       '44.2', '44.1', '44', '43.9', '43.8', '43.7', '43.6', '43.5',\n",
              "       '43.4', '43', '42.9', '42.7', '42.6', '42.5', '42.3', '41.8',\n",
              "       '41.7', '41.3', '41.2', '41.1', '41', '40.8', '40.7', '40.6',\n",
              "       '40.5', '46.9', '40.3', '40.1', '39.9', '39.8', '39.7', '39.6',\n",
              "       '39.4', '39.3', '39.1', '38.8', '38.7', '33.7', '38.6', '38.4',\n",
              "       '38.3', '38.2', '38.1', '38', '37.9', '37.5', '31.7', '37.2',\n",
              "       '37.1', '37', '35.9', '36.7', '36.6', '36.5', '36.4', '36.3',\n",
              "       '33.3', '35.8', '35.7', '35.5', '35.3', '35.2', '35.1', '35',\n",
              "       '34.9', '34.8', '34.7', '24.5', '34.6', '34.4', '34.2', '34.1',\n",
              "       '34', '33.8', '-', '33.6', '33.5', '33.4', '36.9', '33.2', '33',\n",
              "       '32.9', '32.8', '32.6', '32.5', '32.4', '32.3', '32.2', '32.1',\n",
              "       '32', '31.9', '31.1', '31.6', '31.5', '31.4', '31.3', '31.2',\n",
              "       '30.8', '30.7', '30.6', '30.5', '30.4', '30.3', '30.2', '30.1',\n",
              "       '30', '29.9', '29.7', '29.6', '29.5', '29.3', '29.1', '29', '28.9',\n",
              "       '28.8', '28.7', '28.6', '28.5', '28.4', '28.3', '28.1', '28',\n",
              "       '27.9', '27.8', '27.6', '27.7', '26.5', '27.5', '27.4', '27.2',\n",
              "       '27.1', '27', '26.8', '26.7', '37.3', '26.6', '22', '26.4', '26.3',\n",
              "       '26.2', '26.1', '26', '25.9', '25.8', '25.7', '25.6', '25.5',\n",
              "       '25.3', '25.2', '25.1', '25', '24.9', '24.8', '24.7', '24.6',\n",
              "       '24.4', '24.2', '24.1', '23.8', '24', '23.9', '23.7', '23.6',\n",
              "       '23.5', '23.4', '23.3', '23.2', '23.1', '23', '22.9', '22.8',\n",
              "       '22.7', '22.6', '22.5', '22.4', '22.3', '22.2', '22.1', '21.9',\n",
              "       '21.8', '21.6', '21.5', '21.4', '21.3', '21.2', '21.1', '21',\n",
              "       '20.9', '20.8'], dtype=object)"
            ]
          },
          "metadata": {},
          "execution_count": 27
        }
      ]
    },
    {
      "cell_type": "code",
      "source": [
        "df.groupby('Location Full')['2025 Rank'].count()"
      ],
      "metadata": {
        "colab": {
          "base_uri": "https://localhost:8080/"
        },
        "id": "hKuQhImkNmw1",
        "outputId": "88ea6743-b0eb-4f68-d6e7-50051269c1c9"
      },
      "execution_count": 28,
      "outputs": [
        {
          "output_type": "execute_result",
          "data": {
            "text/plain": [
              "Location Full\n",
              "Argentina         25\n",
              "Armenia            1\n",
              "Australia         38\n",
              "Austria            8\n",
              "Azerbaijan         3\n",
              "                ... \n",
              "United States    197\n",
              "Uruguay            4\n",
              "Uzbekistan         2\n",
              "Venezuela          7\n",
              "Vietnam            6\n",
              "Name: 2025 Rank, Length: 106, dtype: int64"
            ]
          },
          "metadata": {},
          "execution_count": 28
        }
      ]
    },
    {
      "cell_type": "code",
      "source": [
        "plt.figure(figsize=(25,25))\n",
        "sns.barplot(x='Location Full',y='International Faculty',data=df)\n",
        "plt.xticks(rotation=90)\n",
        "plt.show()"
      ],
      "metadata": {
        "id": "tzGZsPHQNpKa",
        "outputId": "9497549d-4a79-4ef5-b4e3-62fed065edca",
        "colab": {
          "base_uri": "https://localhost:8080/",
          "height": 1000
        }
      },
      "execution_count": 29,
      "outputs": [
        {
          "output_type": "display_data",
          "data": {
            "text/plain": [
              "<Figure size 2500x2500 with 1 Axes>"
            ],
            "image/png": "[encoded data removed]"
          },
          "metadata": {}
        }
      ]
    },
    {
      "cell_type": "code",
      "source": [],
      "metadata": {
        "id": "PcVJnLPmNq2S"
      },
      "execution_count": null,
      "outputs": []
    }
  ]
}